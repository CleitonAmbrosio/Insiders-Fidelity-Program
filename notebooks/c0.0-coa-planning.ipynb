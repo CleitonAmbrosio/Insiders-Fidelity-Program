{
 "cells": [
  {
   "cell_type": "markdown",
   "id": "d6b50731",
   "metadata": {},
   "source": [
    "# Planning"
   ]
  },
  {
   "cell_type": "markdown",
   "id": "29f65bd2",
   "metadata": {
    "heading_collapsed": true
   },
   "source": [
    "## Inputs"
   ]
  },
  {
   "cell_type": "markdown",
   "id": "04b53828",
   "metadata": {
    "hidden": true
   },
   "source": [
    "- Statement of the business problem: build a fidelity program (Insiders group) to be integrated by the most valuable customers.\n",
    "- 1-year historical sales database."
   ]
  },
  {
   "cell_type": "markdown",
   "id": "c7e94054",
   "metadata": {
    "heading_collapsed": true
   },
   "source": [
    "## Outputs"
   ]
  },
  {
   "cell_type": "markdown",
   "id": "74fe5442",
   "metadata": {
    "hidden": true
   },
   "source": [
    "- Which customers are in the Insiders group.\n",
    "- A report answering the following business questions:\n",
    "    1. Who is eligible to take part in the Insiders group?\n",
    "    2. How many clients are there in it?\n",
    "    3. What are the main characteristics of these clients?\n",
    "    4. What is the percentage contribution of the Insiders group to the whole income?\n",
    "    5. What is the expected income from this group for the next months?\n",
    "    6. What are the conditions for someone to become part of the Insiders group?\n",
    "    7. What are the conditions for someone to be removed of the Insiders group?\n",
    "    8. What is the guarantee that the Insiders group is more valuable than the rest of the base?\n",
    "    9. What actions can the marketing team make to increase the income?"
   ]
  },
  {
   "cell_type": "markdown",
   "id": "aa8cd168",
   "metadata": {
    "heading_collapsed": true
   },
   "source": [
    "## Tasks"
   ]
  },
  {
   "cell_type": "markdown",
   "id": "d3aff0db",
   "metadata": {
    "hidden": true
   },
   "source": [
    "1. Who is eligible to take part in the Insiders group?\n",
    "    - What makes a customer \"valuable\"?\n",
    "        - Income:\n",
    "            - High average ticket value\n",
    "            - High actual and expected LTVs\n",
    "            - Low recency\n",
    "            - High frequency\n",
    "            - High purchase propensity\n",
    "            - Low churn probability\n",
    "        - Spendings:\n",
    "            - Low number of devolutions\n",
    "        - Sales experience:\n",
    "            - High ratings given by sellers (if available)\n",
    "\n",
    "\n",
    "2. How many clients are there in it?\n",
    "    - Simple count + ratio\n",
    "    \n",
    "    \n",
    "3. What are the main characteristics of these clients?\n",
    "    - Demographics (if available) 🠒 useful for \"look-alike\"\n",
    "        - Age\n",
    "        - Location\n",
    "    - Other features: average over the clients of the group\n",
    "    \n",
    "    \n",
    "4. What is the percentage contribution of the Insiders group to the whole income?\n",
    "    - Total income / Insiders group income (over the year)\n",
    "\n",
    "\n",
    "5. What is the expected income from this group for the next months?\n",
    "    - Expected LTV of the Insiders (ARIMA or other algorithm over the members of the Insiders)\n",
    "    - Cohort analysis\n",
    "\n",
    "\n",
    "6. What are the conditions for someone to become part of the Insiders group?\n",
    "    - Define periodicity (whether the cluster structure is kept or the whole clustering shall be ran again)\n",
    "    - Selection based on similarity\n",
    "\n",
    "\n",
    "7. What are the conditions for someone to be removed of the Insiders group?\n",
    "    - Define periodicity (whether the cluster structure is kept or the whole clustering shall be ran again)\n",
    "    - Selection based on dissimilarity\n",
    "\n",
    "\n",
    "8. What is the guarantee that the Insiders group is more valuable than the rest of the base?\n",
    "    - A/B test\n",
    "    - Hypothesis test\n",
    "\n",
    "\n",
    "9. What actions can the marketing team make to increase the income?\n",
    "    - Discounts\n",
    "    - Express delivery\n",
    "    - Premium offers batch\n",
    "    - Purchase preference"
   ]
  },
  {
   "cell_type": "markdown",
   "id": "7f077e53",
   "metadata": {
    "heading_collapsed": true
   },
   "source": [
    "## Benchmarking of solutions - Desk research"
   ]
  },
  {
   "cell_type": "markdown",
   "id": "2fd15cdf",
   "metadata": {
    "hidden": true
   },
   "source": [
    "- RFM Model\n",
    "\n",
    "\n",
    "- K-means \n",
    "    - Elbow and Silhouette Analysis methods → best K\n",
    "- GMM\n",
    "- Hierarchical clustering\n",
    "- DBSCan \n",
    "    - NearestNeighbors → epsilon\n",
    "\n",
    "\n",
    "\n",
    "- Reduction of dimensionality\n",
    "    - PCA \n",
    "        - Scree plot\n",
    "    - t-SNE\n",
    "    - UMAP\n",
    "    - Trees"
   ]
  }
 ],
 "metadata": {
  "kernelspec": {
   "display_name": "Python 3 (ipykernel)",
   "language": "python",
   "name": "python3"
  },
  "language_info": {
   "codemirror_mode": {
    "name": "ipython",
    "version": 3
   },
   "file_extension": ".py",
   "mimetype": "text/x-python",
   "name": "python",
   "nbconvert_exporter": "python",
   "pygments_lexer": "ipython3",
   "version": "3.9.7"
  },
  "toc": {
   "base_numbering": 1,
   "nav_menu": {},
   "number_sections": true,
   "sideBar": true,
   "skip_h1_title": false,
   "title_cell": "Table of Contents",
   "title_sidebar": "Contents",
   "toc_cell": false,
   "toc_position": {},
   "toc_section_display": true,
   "toc_window_display": false
  }
 },
 "nbformat": 4,
 "nbformat_minor": 5
}
